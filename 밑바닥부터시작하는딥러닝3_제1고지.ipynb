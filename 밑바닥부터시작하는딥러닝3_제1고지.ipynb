{
  "nbformat": 4,
  "nbformat_minor": 0,
  "metadata": {
    "colab": {
      "private_outputs": true,
      "provenance": [],
      "authorship_tag": "ABX9TyOkpXvQHohlxAKmsNlicXgP",
      "include_colab_link": true
    },
    "kernelspec": {
      "name": "python3",
      "display_name": "Python 3"
    },
    "language_info": {
      "name": "python"
    }
  },
  "cells": [
    {
      "cell_type": "markdown",
      "metadata": {
        "id": "view-in-github",
        "colab_type": "text"
      },
      "source": [
        "<a href=\"https://colab.research.google.com/github/limseo12/deep-learning-from-scratch_Study/blob/main/%EB%B0%91%EB%B0%94%EB%8B%A5%EB%B6%80%ED%84%B0%EC%8B%9C%EC%9E%91%ED%95%98%EB%8A%94%EB%94%A5%EB%9F%AC%EB%8B%9D3_%EC%A0%9C1%EA%B3%A0%EC%A7%80.ipynb\" target=\"_parent\"><img src=\"https://colab.research.google.com/assets/colab-badge.svg\" alt=\"Open In Colab\"/></a>"
      ]
    },
    {
      "cell_type": "code",
      "execution_count": null,
      "metadata": {
        "id": "kpVvpoiKxjv6"
      },
      "outputs": [],
      "source": [
        "#Variable = 변수 , 클래스 구현\n",
        "class Variable:\n",
        "  def __init__(self, data):\n",
        "    self.data = data\n",
        "\n",
        "import numpy as np\n",
        "\n",
        "data = np.array(1.0)\n",
        "x = Variable(data)\n",
        "print(x.data)\n",
        "\n",
        "#새로운 데이터입력\n",
        "x.data = np.array(2.0)\n",
        "print(x.data)"
      ]
    },
    {
      "cell_type": "code",
      "source": [
        "#ndim 인스턴스 변수 사용해보기 = 차원 수\n",
        "import numpy as np\n",
        "x = np.array(1)\n",
        "x.ndim\n",
        "#결과 = 0\n",
        "x = np.array([1, 2, 3])\n",
        "x.ndim\n",
        "#결과 = 1\n",
        "x = np.array([[1, 2, 3],\n",
        "              [4, 5, 6]])\n",
        "x.ndim\n",
        "#결과 = 2"
      ],
      "metadata": {
        "id": "zSHifVZy06hl"
      },
      "execution_count": null,
      "outputs": []
    },
    {
      "cell_type": "code",
      "source": [
        "#2.2 Function 클래스 구현\n",
        "class Function:\n",
        "  def __call__(self, input):  #파이썬의 특수 메서드.\n",
        "    x = input.data\n",
        "    y = x ** 2\n",
        "    output = Variable(y)\n",
        "    return output\n",
        "\n",
        "#2.3 FUnction 클래스 이용 2.2와 연계\n",
        "x = Variable(np.array(10))\n",
        "f = Function()\n",
        "y = f(x)\n",
        "\n",
        "print(type(y))\n",
        "print(y.data)"
      ],
      "metadata": {
        "id": "R_gT_o6p10ON"
      },
      "execution_count": null,
      "outputs": []
    },
    {
      "cell_type": "code",
      "source": [
        "#calss Function 수정\n",
        "class Function:\n",
        "  def __call__(self, input):\n",
        "    x = input.data\n",
        "    y = self.forward(x)\n",
        "    output = Variable(y)\n",
        "    return output\n",
        "  def forward(self, x):\n",
        "    raise NotImplementedError()"
      ],
      "metadata": {
        "id": "OoLZvAOjwIzh"
      },
      "execution_count": null,
      "outputs": []
    },
    {
      "cell_type": "code",
      "source": [
        "#Function 클래스를 상속하여 입력값을 제곱하는 클래스를 구현\n",
        "class Square(Function):\n",
        "  def forward(self, x):\n",
        "    return x ** 2\n",
        "\n",
        "x = Variable(np.array(10))\n",
        "f = Square()\n",
        "y = f(x)\n",
        "print(type(y))\n",
        "print(y.data)"
      ],
      "metadata": {
        "id": "lTXxE2GrBeQP"
      },
      "execution_count": null,
      "outputs": []
    },
    {
      "cell_type": "markdown",
      "source": [
        "## step 3 함수 연결"
      ],
      "metadata": {
        "id": "ygKRHjrHC4ji"
      }
    },
    {
      "cell_type": "code",
      "source": [
        "#3.1 Exp 함수 구현\n",
        "class Exp(Function):\n",
        "  def forward(self, x):\n",
        "    return np.exp(x)\n",
        "\n",
        "#3.2 함수 연결 y = (e^x^2)^2 이라는 계산을 예로 생각\n",
        "A = Square()\n",
        "B = Exp()\n",
        "C = Square()\n",
        "\n",
        "x = Variable(np.array(0.5))\n",
        "a = A(x)\n",
        "b = B(a)\n",
        "y = C(b)\n",
        "print(y.data)"
      ],
      "metadata": {
        "id": "Ub3bzTmAC-5y"
      },
      "execution_count": null,
      "outputs": []
    },
    {
      "cell_type": "markdown",
      "source": [
        "# Step 4 수치 미분"
      ],
      "metadata": {
        "id": "cQv_SFCbH7wn"
      }
    },
    {
      "cell_type": "markdown",
      "source": [
        "#중앙차분, 전진차분 .\n",
        "#중앙차분이 상대적으로 오차가 적다\n",
        "#앱실론의 약어 eps. 아주 작은 양의 부동소수점값을 담는 변수의 이름으로 흔희 사용된다."
      ],
      "metadata": {
        "id": "Fgl0TLJRgZSg"
      }
    },
    {
      "cell_type": "code",
      "source": [
        "#4,1 중앙차분을 이용하여 수치미분을 계산해보자\n",
        "def numerical_diff(f, x, eps=1e-4):\n",
        "  x0 = Variable(x.data - eps)\n",
        "  x1 = Variable(x.data + eps)\n",
        "  y0 = f(x0)\n",
        "  y1 = f(x1)\n",
        "  return (y1.data - y0.data) / (2 * eps)\n",
        "\n",
        "# 아까 구현한 Square 클래스 대상으로 미분해보자\n",
        "f = Square()\n",
        "x = Variable(np.array(2.0))\n",
        "dy = numerical_diff(f, x)\n",
        "print(dy)"
      ],
      "metadata": {
        "id": "XglpxAwBH_Kq"
      },
      "execution_count": null,
      "outputs": []
    },
    {
      "cell_type": "code",
      "source": [
        "#4.3 합성 함수의 미분\n",
        "def f(x):\n",
        "  A = Square()\n",
        "  B = Exp()\n",
        "  C = Square()\n",
        "  return C(B(A(x)))\n",
        "\n",
        "x = Variable(np.array(0.5))\n",
        "dy = numerical_diff(f, x)\n",
        "print(dy)\n"
      ],
      "metadata": {
        "id": "NV--W8u-nvt7"
      },
      "execution_count": null,
      "outputs": []
    },
    {
      "cell_type": "markdown",
      "source": [
        "4.4 수치미분의 문제점\\\n",
        "'자릿수 누락' 때문에 문제가있다.\\\n",
        "수치미분을 이용하면 자릿수 누락이 발생하여 오차가 포함되기 쉽다.\n",
        "\n",
        "역전파\\\n",
        "수치 미분은 구현하기 쉽고 거의 정확한 값을 얻을 수 있다.\\\n",
        "이에 비해 역전파는 복잡한 알고리즘이여서 구현하면서 버그가 섞여 들어가기 쉽다.\\\n",
        "역전파를 정확하게 구현했는지 확인하기 위해 수치 미분의 결과를 이용하곤 한다.\\\n",
        "이를 기울기 확인 (gradient checking) 이라고한다\\\n",
        "이것은 단순히 수치 미분 결과와 역전파의 결과를 비교하는 것이다."
      ],
      "metadata": {
        "id": "edVEioyJxyLM"
      }
    },
    {
      "cell_type": "markdown",
      "source": [
        "# Step 5 역전파 (Back propagation) 이론 "
      ],
      "metadata": {
        "id": "UE4Wx0YTyhZQ"
      }
    },
    {
      "cell_type": "code",
      "source": [
        "#5.1 연쇄법칙\n"
      ],
      "metadata": {
        "id": "Lq7jYhGGymId"
      },
      "execution_count": null,
      "outputs": []
    },
    {
      "cell_type": "markdown",
      "source": [
        "# Step 6 수동 역전파"
      ],
      "metadata": {
        "id": "9DEjHFjA5S19"
      }
    },
    {
      "cell_type": "code",
      "source": [
        "#6.1\n",
        "class Variable:\n",
        "  def __init__(self, data):\n",
        "    self.data = data\n",
        "    self.grad = None  #grad 는 gradient 를 줄인 말"
      ],
      "metadata": {
        "id": "62i18LE35WKk"
      },
      "execution_count": null,
      "outputs": []
    },
    {
      "cell_type": "code",
      "source": [
        "#6.2 Function 클래스 추가 구현\n",
        "class Function:\n",
        "  def __call__(self, input):\n",
        "    x = input.data\n",
        "    y = self.forward(x)\n",
        "    output = Variable(x)\n",
        "    self.input = input  # 입력 변수를 기억(보관)한다.\n",
        "    return output\n",
        "  \n",
        "  def forward(self, x):\n",
        "    raise NotImplementedError()\n",
        "  \n",
        "  def backward(self, gy):\n",
        "    raise NotImplementedError()"
      ],
      "metadata": {
        "id": "lePgpWq36B_f"
      },
      "execution_count": null,
      "outputs": []
    },
    {
      "cell_type": "code",
      "source": [
        "#6.3 Square와 Exp 클래스 추가 구현\n",
        "class Square(Function):\n",
        "  def foraward(self, x):\n",
        "    y = x **2\n",
        "    return y\n",
        "  \n",
        "  def backward(self, gy):\n",
        "    x = self.input.data\n",
        "    gx = 2 * x * gy\n",
        "    return gx"
      ],
      "metadata": {
        "id": "S0Gft-8N6m3k"
      },
      "execution_count": null,
      "outputs": []
    },
    {
      "cell_type": "code",
      "source": [
        "class Exp(Function):\n",
        "  def forward(self, x):\n",
        "    y = np.exp(x)\n",
        "    return y\n",
        "  \n",
        "  def backward(self, gy):\n",
        "    x = self.input.data\n",
        "    gx = np.exp(x) * gy\n",
        "    return gx"
      ],
      "metadata": {
        "id": "8ETT7RJG7E8a"
      },
      "execution_count": null,
      "outputs": []
    },
    {
      "cell_type": "code",
      "source": [
        "# 6.4 역전파 구현\n",
        "#순전파하는 코드\n",
        "A = Square()\n",
        "B = Exp()\n",
        "C = Square()\n",
        "\n",
        "x = Variable(np.array(0.5))\n",
        "a = A(x)\n",
        "b = B(a)\n",
        "y = C(b)\n",
        "\n",
        "#역전파로 y를 미분\n",
        "y.grad = np.array(1.0)\n",
        "b.grad = C.backward(b.grad)\n",
        "a.grad = B.backward(b.grad)\n",
        "x.grad = A.backward(a.grad)\n",
        "print(x.grad)"
      ],
      "metadata": {
        "id": "AAQkllAE7TYe"
      },
      "execution_count": null,
      "outputs": []
    },
    {
      "cell_type": "markdown",
      "source": [
        "# Step 7 역전파 자동화"
      ],
      "metadata": {
        "id": "yhQBHzTV92Di"
      }
    },
    {
      "cell_type": "code",
      "source": [
        "#7.1 역전파 자동화의 시작\n",
        "class Variable:\n",
        "  def __init__(self, data):\n",
        "    self.data = data\n",
        "    self.grad = None\n",
        "    self.creator = None\n",
        "  \n",
        "  def set_creator(self, func):\n",
        "    self.creator = func"
      ],
      "metadata": {
        "id": "-KdIhg6e94NM"
      },
      "execution_count": null,
      "outputs": []
    },
    {
      "cell_type": "code",
      "source": [
        "class Function:\n",
        "  def __call__(self, input):\n",
        "    x = input.data\n",
        "    y = self.forward(x)\n",
        "    output = Variable(y)\n",
        "    output.set_creator(self)\n",
        "    self.input = input\n",
        "    self.output = output\n",
        "    return output"
      ],
      "metadata": {
        "id": "bBQlFOdh-Yl5"
      },
      "execution_count": null,
      "outputs": []
    },
    {
      "cell_type": "code",
      "source": [
        "A = Square()\n",
        "B = Exp()\n",
        "C = Square()\n",
        "\n",
        "x = Variable(np.array(0.5))\n",
        "a = A(x)\n",
        "b = B(a)\n",
        "y = C(b)\n",
        "\n",
        "#계산 그래프의 노드들을 거꾸로 거슬러 올라간다.\n",
        "assert y.creator == C\n",
        "assert y.creator.input == b\n",
        "assert y.creator.input.creator == B\n",
        "assert y.creator.input.creator.input == a\n",
        "assert y.creator.input.creator.input.creator == A\n",
        "assert y.creator.input.creator.input.creator.input == x"
      ],
      "metadata": {
        "id": "aU-_Ygl--4AL"
      },
      "execution_count": null,
      "outputs": []
    },
    {
      "cell_type": "code",
      "source": [
        "#7.2 역전파 도전!\n",
        "y.grad = np.array(1.0)\n",
        "\n",
        "C = y.creator # 1. 함수를 가져온다.\n",
        "b = C.input # 2. 함수의 입력을 가져온다.\n",
        "b.grad = C.backward(y.grad) # 3. 함수의 backward 메서드를 호출한다."
      ],
      "metadata": {
        "id": "ZkT0CmF8_TQv"
      },
      "execution_count": null,
      "outputs": []
    },
    {
      "cell_type": "code",
      "source": [
        "B = b.creator #1. 함수를 가져온다\n",
        "a = B.input #2. 함수의 입력을 가져온다.\n",
        "a.grad = B.backward(b.grad) # 3. 함수의 backward 메서드를 호출한다."
      ],
      "metadata": {
        "id": "GkgSK3WA_kII"
      },
      "execution_count": null,
      "outputs": []
    },
    {
      "cell_type": "code",
      "source": [
        "A = a.creator # 1. 함수를 가져온다.\n",
        "x = A.input # 2. 함수의 입력을 가져온다.\n",
        "x.grad = A.backward(a.grad) # 3. 함수의 backward 메서드를 호출한다.\n",
        "print(x.grad)"
      ],
      "metadata": {
        "id": "e4xfcCtm_vk_"
      },
      "execution_count": null,
      "outputs": []
    },
    {
      "cell_type": "code",
      "source": [
        "#7.3 backward 메서드 추가\n",
        "class Variable:\n",
        "  def __init__(self, data):\n",
        "    self.data = data\n",
        "    self.grad = None\n",
        "    self.creator = None\n",
        "\n",
        "  def set_creator(self, func):\n",
        "    self.creator = func\n",
        "  \n",
        "  def backward(self):\n",
        "    f = self.creator  # 1. 함수를 가져온다.\n",
        "    if f is not None:\n",
        "      x = f.input # 2. 함수의 입력을 가져온다.\n",
        "      x.grad = f.backward(self.grad)  # 3. 함수의 backward 메서드를 호출한다\n",
        "      x.backward()  #하나 앞 변수의 backward 메서드를 호출한다(재귀)"
      ],
      "metadata": {
        "id": "Ad8R1OVf_7U-"
      },
      "execution_count": null,
      "outputs": []
    },
    {
      "cell_type": "code",
      "source": [
        "A = Square()\n",
        "B = Exp()\n",
        "C = Square()\n",
        "\n",
        "x = Variable(np.array(0.5))\n",
        "a = A(x)\n",
        "b = B(a)\n",
        "y = C(b)\n",
        "\n",
        "#역전파\n",
        "y.grad = np.array(1.0)\n",
        "y.backward()\n",
        "print(x.grad)"
      ],
      "metadata": {
        "id": "N3pGvGtyAYvc"
      },
      "execution_count": null,
      "outputs": []
    },
    {
      "cell_type": "markdown",
      "source": [
        "# Setp 8 재귀에서 반복문으로"
      ],
      "metadata": {
        "id": "Lej9JS9ZAnEm"
      }
    },
    {
      "cell_type": "code",
      "source": [
        "# 8.1 현재의 Variable 클래스\n",
        "class Variable:\n",
        "  def __init__(self, data):\n",
        "    self.data = data\n",
        "    self.grad = None\n",
        "    self.creator = None\n",
        "\n",
        "  def set_creator(self, func):\n",
        "    self.creator = func\n",
        "\n",
        "  def backward(self):\n",
        "    f = self.creator\n",
        "    if f is not None:\n",
        "      x = f.input\n",
        "      x.grad = f.vackward(self.grad)\n",
        "      x.vackward()"
      ],
      "metadata": {
        "id": "8ELv6WLBda2m"
      },
      "execution_count": null,
      "outputs": []
    },
    {
      "cell_type": "code",
      "source": [
        "#8.2 반복문을 이용한 구현\n",
        "class Variable:\n",
        "  def __init__(self, data):\n",
        "    self.data = data\n",
        "    self.grad = None\n",
        "    self.creator = None\n",
        "\n",
        "  def set_creator(self, func):\n",
        "    self.creator = func\n",
        "\n",
        "  def backward(self):\n",
        "    funcs = [self.creator]\n",
        "    while funcs:\n",
        "      f = funcs.pop() # 함수를 가져온다\n",
        "      x, y = f.input, f.output # 함수의 입력과 출력을 가져온다.\n",
        "      x. grad = f.backward(y.grad)  # backward 메서드를 호출한다.\n",
        "\n",
        "      if x.creator is not None:\n",
        "        funcs.append(x.creator) # 하나 앞의 함수를 리스트에 추가한다."
      ],
      "metadata": {
        "id": "kKIju0p7jgLQ"
      },
      "execution_count": null,
      "outputs": []
    },
    {
      "cell_type": "code",
      "source": [
        "# 8.3 동작 확인\n",
        "A = Square()\n",
        "B = Exp()\n",
        "C = Square()\n",
        "\n",
        "x = Variable(np.array(0.5))\n",
        "a = A(x)\n",
        "b = B(a)\n",
        "y = C(b)\n",
        "\n",
        "#역전파\n",
        "y.grad = np.array(1.0)\n",
        "y.backward()\n",
        "print(x.grad)"
      ],
      "metadata": {
        "id": "7UXmnLBgkqHK"
      },
      "execution_count": null,
      "outputs": []
    },
    {
      "cell_type": "markdown",
      "source": [
        "# Step 9 함수를 더 편리하게"
      ],
      "metadata": {
        "id": "jNaHXBNelFqy"
      }
    },
    {
      "cell_type": "code",
      "source": [
        "#9.1 파이썬 함수로 이용하기\n",
        "x = Variable(np.array(0.5))\n",
        "f = Square()\n",
        "y = f(x)"
      ],
      "metadata": {
        "id": "Ov60BN23lI1b"
      },
      "execution_count": null,
      "outputs": []
    },
    {
      "cell_type": "code",
      "source": [
        "def square(x):\n",
        "  f = Square()\n",
        "  return f(x)\n",
        "\n",
        "def exp(x):\n",
        "  f = Exp()\n",
        "  return f(x)"
      ],
      "metadata": {
        "id": "sWgjfADGn6LU"
      },
      "execution_count": null,
      "outputs": []
    },
    {
      "cell_type": "code",
      "source": [
        "#한줄로표현\n",
        "def square(x):\n",
        "  return Square()(x)\n",
        "\n",
        "def exp(x):\n",
        "  return Exp()(x)"
      ],
      "metadata": {
        "id": "aDg66_PIyENM"
      },
      "execution_count": null,
      "outputs": []
    },
    {
      "cell_type": "code",
      "source": [
        "#방금 구현한 두 함수 사용\n",
        "x = Variable(np.array(0.5))\n",
        "a = square(x)\n",
        "b = exp(a)\n",
        "y = square(b)\n",
        "\n",
        "y.grad = np.array(1.0)\n",
        "y.backward()\n",
        "print(x.grad)"
      ],
      "metadata": {
        "id": "Yxvx8f5koj_G"
      },
      "execution_count": null,
      "outputs": []
    },
    {
      "cell_type": "code",
      "source": [
        "x = Variable(np.array(0.5))\n",
        "y = square(exp(square(x)))  #연속하여 적용\n",
        "y.grad = np.array(1.0)\n",
        "y.backward()\n",
        "print(x.grad)"
      ],
      "metadata": {
        "id": "dAnKyAXTyWxC"
      },
      "execution_count": null,
      "outputs": []
    },
    {
      "cell_type": "code",
      "source": [
        "#9.2 backward 메서드 간소화\n",
        "class Variable:\n",
        "  def __init__(self, data):\n",
        "    self.data = data\n",
        "    self.grad = None\n",
        "    self.creator = None\n",
        "\n",
        "  def set_creator(self, func):\n",
        "    self.creator = func\n",
        "\n",
        "  def backward(self):\n",
        "    if self.grad is None:\n",
        "      self.grad = np.ones_like(self.data)\n",
        "\n",
        "    funcs = [self.creator]\n",
        "    while funcs:\n",
        "      f = funcs.pop()\n",
        "      x, y = f.input, f.output\n",
        "      x.grad = f.backward(y.grad)\n",
        "\n",
        "      if x.creator is not None:\n",
        "        funcs.append(x.creator)"
      ],
      "metadata": {
        "id": "59GNVfU0yg-6"
      },
      "execution_count": null,
      "outputs": []
    },
    {
      "cell_type": "code",
      "source": [
        "x = Variable(np.array(0.5))\n",
        "y = square(exp(square(x)))\n",
        "y.backward()\n",
        "print(x.grad)"
      ],
      "metadata": {
        "id": "ZP-M91IHzYdJ"
      },
      "execution_count": null,
      "outputs": []
    },
    {
      "cell_type": "code",
      "source": [
        "#9.3 ndarray만 취급하기\n",
        "class Variable:\n",
        "  def __init__(self,data):\n",
        "    if data is not None:\n",
        "      if not isinstance(data, np.ndarray):\n",
        "        raise TypeError('{}은(는) 지원하지 않습니다.'.format(type(data)))\n",
        "\n",
        "      self.data = data\n",
        "      self.grad = None\n",
        "      self.creator = None"
      ],
      "metadata": {
        "id": "fPhiypukzs6A"
      },
      "execution_count": null,
      "outputs": []
    },
    {
      "cell_type": "code",
      "source": [
        "x = Variable(np.array(1.0)) # OK\n",
        "x = Variable(None)  # OK\n",
        "\n",
        "x = Variable(1.0) # NG: 오류 발생 !"
      ],
      "metadata": {
        "id": "Y6A5Dows0isO"
      },
      "execution_count": null,
      "outputs": []
    },
    {
      "cell_type": "code",
      "source": [
        "x = np.array([1.0])\n",
        "y = x ** 2\n",
        "prit(type(x), x.ndim)\n",
        "print(type(y))"
      ],
      "metadata": {
        "id": "-_tImk540vAg"
      },
      "execution_count": null,
      "outputs": []
    },
    {
      "cell_type": "code",
      "source": [
        "x = np.array(1.0) # 0차원 ndarray\n",
        "y = x ** 2\n",
        "print(type(x), x.ndim)\n",
        "print(type(y))"
      ],
      "metadata": {
        "id": "at8LZMeP035P"
      },
      "execution_count": null,
      "outputs": []
    },
    {
      "cell_type": "code",
      "source": [
        "def as_array(x):\n",
        "  if np.isscalar(x):\n",
        "    return np.array(x)\n",
        "  return x"
      ],
      "metadata": {
        "id": "wgDN5BFs1GB6"
      },
      "execution_count": null,
      "outputs": []
    },
    {
      "cell_type": "code",
      "source": [
        "import numpy as np\n",
        "np.isscalar(np.float64(1.0))\n",
        "#True\n",
        "np.isscalar(2.0)\n",
        "#True\n",
        "np.isscalar(np.array(1.0))\n",
        "#False\n",
        "np.isscalar(np.array([1, 2, 3]))\n",
        "#False"
      ],
      "metadata": {
        "id": "hjJESXHA1NWB"
      },
      "execution_count": null,
      "outputs": []
    },
    {
      "cell_type": "code",
      "source": [
        "class Function:\n",
        "  def __call__(self, input):\n",
        "    x = input.data\n",
        "    y = self.forward(x)\n",
        "    output = Variable(as_array(y))\n",
        "    output.set_creator(self)\n",
        "    self.input = input\n",
        "    self.output = output\n",
        "    return output"
      ],
      "metadata": {
        "id": "tasiJB2Y12DW"
      },
      "execution_count": null,
      "outputs": []
    },
    {
      "cell_type": "markdown",
      "source": [
        "# Step 10 테스트"
      ],
      "metadata": {
        "id": "q0YMMJ682Q0g"
      }
    },
    {
      "cell_type": "code",
      "source": [
        "#10.1 파이썬 단위 테스트\n",
        "import unittest\n",
        "\n",
        "class SquareTest(unittest.TestCase):\n",
        "  def test_forward(self):\n",
        "    x = Variable(np.array(2.0))\n",
        "    y = square(x)\n",
        "    expected = np.array(4.0)\n",
        "    self.assertEqual(y.data, expected)"
      ],
      "metadata": {
        "id": "JK-XnRoh2TEX"
      },
      "execution_count": null,
      "outputs": []
    },
    {
      "cell_type": "code",
      "source": [
        "#10.2 square 함수의 역전파 테스트\n",
        "#구현한 테스트 코드에 다음 코드를 추가한다.\n",
        "import unittest\n",
        "\n",
        "class SquareTest(unittest.TestCase):\n",
        "  def test_forward(self):\n",
        "    x = Variable(np.array(2.0))\n",
        "    y = square(x)\n",
        "    expected = np.array(4.0)\n",
        "    self.assertEqual(y.data, expected)\n",
        "\n",
        "  def test_backward(self):\n",
        "    x = Variable(np.array(3.0))\n",
        "    y = square(x)\n",
        "    y.backward()\n",
        "    expected = np.array(6.0)\n",
        "    self.assertEqual(x.grad, expected)"
      ],
      "metadata": {
        "id": "hpuSTPuy3EBp"
      },
      "execution_count": null,
      "outputs": []
    },
    {
      "cell_type": "code",
      "source": [
        "#10.3 기울기 확인을 이용한 자동 테스트\n",
        "import unittest\n",
        "\n",
        "def numerical_diff(f, x, eps=1e-4):\n",
        "  x0 = Variable(x.data - eps)\n",
        "  x1 = Variable(x.data + eps)\n",
        "  y0 = f(x0)\n",
        "  y1 = f(x1)\n",
        "  return (y1.data - y0.data) / (2 * eps)\n",
        "  \n",
        "class SquareTest(unittest.TestCase):\n",
        "\n",
        "  def test_forward(self):\n",
        "    x = Variable(np.array(2.0))\n",
        "    y = square(x)\n",
        "    expected = np.array(4.0)\n",
        "    self.assertEqual(y.data, expected)\n",
        "\n",
        "  def test_backward(self):\n",
        "    x = Variable(np.array(3.0))\n",
        "    y = square(x)\n",
        "    y.backward()\n",
        "    expected = np.array(6.0)\n",
        "    self.assertEqual(x.grad, expected)\n",
        "\n",
        "  def test_gradient_check(self):\n",
        "    x = Variable(np.random.rand(1))\n",
        "    y = square(x)\n",
        "    y.backward()\n",
        "    num_grad = numerical_diff(square, x)\n",
        "    flg = np.allclose(x.grad, num_grad)\n",
        "    self.assertTrue(flg)"
      ],
      "metadata": {
        "id": "9x7NRfwF3coC"
      },
      "execution_count": null,
      "outputs": []
    }
  ]
}