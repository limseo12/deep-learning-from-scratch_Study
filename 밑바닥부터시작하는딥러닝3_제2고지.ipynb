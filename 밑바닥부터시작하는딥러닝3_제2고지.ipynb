{
  "nbformat": 4,
  "nbformat_minor": 0,
  "metadata": {
    "colab": {
      "private_outputs": true,
      "provenance": [],
      "authorship_tag": "ABX9TyNFLk8vppsLfpWEgKkuGSmg",
      "include_colab_link": true
    },
    "kernelspec": {
      "name": "python3",
      "display_name": "Python 3"
    },
    "language_info": {
      "name": "python"
    }
  },
  "cells": [
    {
      "cell_type": "markdown",
      "metadata": {
        "id": "view-in-github",
        "colab_type": "text"
      },
      "source": [
        "<a href=\"https://colab.research.google.com/github/limseo12/deep-learning-from-scratch_Study/blob/main/%EB%B0%91%EB%B0%94%EB%8B%A5%EB%B6%80%ED%84%B0%EC%8B%9C%EC%9E%91%ED%95%98%EB%8A%94%EB%94%A5%EB%9F%AC%EB%8B%9D3_%EC%A0%9C2%EA%B3%A0%EC%A7%80.ipynb\" target=\"_parent\"><img src=\"https://colab.research.google.com/assets/colab-badge.svg\" alt=\"Open In Colab\"/></a>"
      ]
    },
    {
      "cell_type": "markdown",
      "source": [
        "# Step11 가변 길이 인수(순전파 편)"
      ],
      "metadata": {
        "id": "mozSJo-U7Ss6"
      }
    },
    {
      "cell_type": "code",
      "source": [
        "#11.1 Function 클래스 수정\n",
        "class Function:\n",
        "  def __call__(self, input):\n",
        "    x = input.data    #1 Variable 이라는 '상자'에서 실제 데이터를 꺼낸다\n",
        "    y = self.forward(x)   #2 forward 메서드에서 구체적인 계산을 한다\n",
        "    output = Variable(as_array(y))    #3 계산 결과를 Variable에 넣고\n",
        "    output.set_creator(self)    #4 자신이 '창조자'라고 원산지 표시?를 한다.\n",
        "    self.input = input\n",
        "    self.output = output\n",
        "    return output\n",
        "\n",
        "  def forward(self, x):\n",
        "    raise NotImplementedError()\n",
        "\n",
        "  def backward(self, gy):\n",
        "    raise NotImplementedError()"
      ],
      "metadata": {
        "id": "W_o6LouJ7ZJI"
      },
      "execution_count": null,
      "outputs": []
    },
    {
      "cell_type": "code",
      "source": [
        "#call 메서드의 인수와 반환값을 리스트로 바꿔보자.\n",
        "class Function:\n",
        "  def __call__(self, inputs):\n",
        "    xs = [x.data for x in inputs]\n",
        "    ys = self.forward(xs)\n",
        "    output = [Variable(as_array(y)) for y in ys]\n",
        "\n",
        "    for output in outputs:\n",
        "      output.set_creator(self)\n",
        "    self.inputs = inputs\n",
        "    self.outputs = outputs\n",
        "    return outputs\n",
        "\n",
        "  def forward(self, xs):\n",
        "    raise NotImplementedError()\n",
        "  \n",
        "  def backward(self, gys):\n",
        "    raise NotImplementedError()"
      ],
      "metadata": {
        "id": "3nVH00Id82uA"
      },
      "execution_count": null,
      "outputs": []
    },
    {
      "cell_type": "code",
      "source": [
        "#11.2 Add 클래스 구현\n",
        "class Add(Function):\n",
        "  def forward(self, xs):\n",
        "    x0, x1 = xs\n",
        "    y = x0 + x1\n",
        "    return (y,)"
      ],
      "metadata": {
        "id": "8VwmCBpa-L8J"
      },
      "execution_count": null,
      "outputs": []
    },
    {
      "cell_type": "code",
      "source": [
        "xs = [Variable(np.array(2)), Variable(np.array(3))] #리스트로 준비\n",
        "f = Add()\n",
        "ys = f(xs)\n",
        "y = ys[0]\n",
        "print(y.data)"
      ],
      "metadata": {
        "id": "jgDn70VC-yEa"
      },
      "execution_count": null,
      "outputs": []
    },
    {
      "cell_type": "markdown",
      "source": [
        "# Step 12 가변 길이 인수(개선 편)"
      ],
      "metadata": {
        "id": "cu4rnbzl_DeU"
      }
    },
    {
      "cell_type": "code",
      "source": [
        "#12.1 첫 번째 개선 : 함수를 사용하기 쉽게\n",
        "class Function:\n",
        "  def __call__(self, *inputs):  # 별표를 붙인다.\n",
        "    xs = [x.data for x in inputs]\n",
        "    ys = self.forward(xs)\n",
        "    outputs = [Variable(as_array(y)) for y in ys]\n",
        "\n",
        "    for output in outputs:\n",
        "      output.set_creator(self)\n",
        "    self.inputs = inputs\n",
        "    self.outputs = outputs\n",
        "\n",
        "    #리스트의 원소가 하나라면 첫 번째 원소를 반환한다.\n",
        "    return outputs if len(outputs) > 1 else outputs[0]"
      ],
      "metadata": {
        "id": "-IKEpbDF_HZf"
      },
      "execution_count": null,
      "outputs": []
    },
    {
      "cell_type": "code",
      "source": [
        ">>> def f(*x):\n",
        "print(x)\n",
        "\n",
        ">>> f(1, 2, 3)\n",
        "(1, 2, 3)\n",
        "\n",
        ">>> f(1, 2, 3, 4, 5, 6)\n",
        "(1, 2, 3, 4, 5, 6)"
      ],
      "metadata": {
        "id": "1avjkHEH_4s_"
      },
      "execution_count": null,
      "outputs": []
    },
    {
      "cell_type": "code",
      "source": [
        "x0 = Variable(np.array(2))\n",
        "x1 = Variable(np.array(3))\n",
        "f = Add()\n",
        "y = f(x0, x1)\n",
        "print(y.data)"
      ],
      "metadata": {
        "id": "HR1YBUxsATHi"
      },
      "execution_count": null,
      "outputs": []
    },
    {
      "cell_type": "code",
      "source": [
        "# 12.2 두 번째 개선: 함수를 구현하기 쉽도록\n",
        "class Function:\n",
        "  def __call__(self, *inpuit):\n",
        "    xs = [x.data for x in inputs]\n",
        "    ys = self.forward(*xs)    # 1 별표를 붙여 언팩\n",
        "    if not isinstance(ys, tuple):   # 2 튜플이 아닌 경우 추가 지원\n",
        "      ys = (ys, )\n",
        "    output = [Variable(as_array(y)) for y in ys]\n",
        "\n",
        "    for output in outputs:\n",
        "      output.set_creator(self)\n",
        "    self.inputs = inputs\n",
        "    self.inputs = outputs\n",
        "\n",
        "    return outputs if len(outputs) > 1 else outputs[0]"
      ],
      "metadata": {
        "id": "Qt1gnHn6Ad6o"
      },
      "execution_count": null,
      "outputs": []
    },
    {
      "cell_type": "code",
      "source": [
        "class Add(Function):\n",
        "  def forward(self, x0, x1):\n",
        "    y = x0 + x1\n",
        "    return y"
      ],
      "metadata": {
        "id": "jqOSa3HoCuvF"
      },
      "execution_count": null,
      "outputs": []
    },
    {
      "cell_type": "code",
      "source": [
        "#12.3 add 함수 구현\n",
        "def add(x0, x1):\n",
        "  return Add()(x0, x1)"
      ],
      "metadata": {
        "id": "H-xWVPuADPKB"
      },
      "execution_count": null,
      "outputs": []
    },
    {
      "cell_type": "code",
      "source": [
        "x0 = Variable(np.array(2))\n",
        "x1 = Variable(np.array(3))\n",
        "y = add(x0, x1)\n",
        "print(y.data)"
      ],
      "metadata": {
        "id": "_kSTuQYmDXdR"
      },
      "execution_count": null,
      "outputs": []
    },
    {
      "cell_type": "markdown",
      "source": [
        "# Step13 가변 길이 인수(역전파 편)"
      ],
      "metadata": {
        "id": "6m4Z2hydDhKl"
      }
    },
    {
      "cell_type": "code",
      "source": [
        "class Add(Function):\n",
        "  def forward(self, x0, x1):\n",
        "    y = x0 + x1\n",
        "    return y\n",
        "  \n",
        "  def backward(self, gy):\n",
        "    return gy, gy"
      ],
      "metadata": {
        "id": "_hyO9xHYfPRg"
      },
      "execution_count": null,
      "outputs": []
    },
    {
      "cell_type": "code",
      "source": [
        "#13.2 Variable 클래스 수정\n",
        "#Variable 클래스의 backward 메서드를 살펴보자\n",
        "class Variable\n",
        "##생략\n",
        "def backward(self):\n",
        "  if self.grad is None:\n",
        "    self.grad = np.ones_like(delf.data)\n",
        "\n",
        "  funcs = [self.creator]\n",
        "  while funcs:\n",
        "    f = funcs.pop()\n",
        "    x, y = f.input, f.output # 1. 함수의 입출력을 얻는다.\n",
        "    x.grad = f.backward(y.grad) # 1. backward 메서드를 호출한다.\n",
        "\n",
        "    if x.creator is not None:\n",
        "      funcs.append(x.creator)"
      ],
      "metadata": {
        "id": "SOBHhyznfaO_"
      },
      "execution_count": null,
      "outputs": []
    },
    {
      "cell_type": "code",
      "source": [
        "##\n",
        "class Variable:\n",
        "  #생략\n",
        "  def backward(self):\n",
        "    if self.grad is None:\n",
        "      self.grad = np.ones_like(self.data)\n",
        "\n",
        "    funcs = [self.creator]\n",
        "    while funcs:\n",
        "      f = funcs.pop()\n",
        "      gys = [output.grad for output in f.outputs] # 1\n",
        "      gxs = f.backward(*gys)  #2\n",
        "      if not isinstance(gxs, tuple):  # 3\n",
        "        gxs = (gxs, )\n",
        "      \n",
        "      for x, gx in zip(f.inputs, gxs):  # 4\n",
        "        x.grad = gx\n",
        "\n",
        "        if x.creator is not None:\n",
        "          funcs.append(x.creator)"
      ],
      "metadata": {
        "id": "A5YbSAF1gCzm"
      },
      "execution_count": null,
      "outputs": []
    },
    {
      "cell_type": "code",
      "source": [
        "#13.3 Square 클래스 구현\n",
        "class Square(Function):\n",
        "  def forward(self, x):\n",
        "    y = x **2\n",
        "    return y\n",
        "  \n",
        "  def backward(self, gy):\n",
        "    x = self.inputs[0].data # 수정 전: x = self.input.data\n",
        "    gx = 2 * x * gy\n",
        "    return gx"
      ],
      "metadata": {
        "id": "n6kTaoIhgrEQ"
      },
      "execution_count": null,
      "outputs": []
    },
    {
      "cell_type": "code",
      "source": [
        "x = Variable(np.array(2.0))\n",
        "y = Variable(np.array(3.0))\n",
        "\n",
        "z = add(square(x), square(y))\n",
        "z.backward()\n",
        "print(z.data)\n",
        "print(x.grad)\n",
        "print(y.grad)"
      ],
      "metadata": {
        "id": "jkKlQebpg9kx"
      },
      "execution_count": null,
      "outputs": []
    },
    {
      "cell_type": "markdown",
      "source": [
        "# Step 14 같은 변수 반복 사용"
      ],
      "metadata": {
        "id": "lgPSKp2khJyB"
      }
    },
    {
      "cell_type": "code",
      "source": [
        "#동일한 변수를 사용하여 덧셈을 하면 제대로 미분하지 못한다.\n",
        "x = Variable(np.array(3.0))\n",
        "y = add(x, x)\n",
        "print('y', y.data)\n",
        "\n",
        "y.backward()\n",
        "print('x.grad', x.grad)\n",
        "\n",
        "#결과\n",
        "#y 6.0\n",
        "#x.grad 1.0\n",
        "\n",
        "#x = 3.0으로 설정한 후 계산하였을 때 y의 값은 6.0이라 제대로 계산하였지만\n",
        "#미분값은 2 가된다. 원인은 Variable 클래스의 다음 위치에 있다."
      ],
      "metadata": {
        "id": "f54sVBwMhM28"
      },
      "execution_count": null,
      "outputs": []
    },
    {
      "cell_type": "code",
      "source": [
        "#14.1 문제의원인\n",
        "class Variable\n",
        "##생략\n",
        "  def backward(self):\n",
        "    if self.grad is None:\n",
        "      self.grad = np.ones_like(self.data)\n",
        "\n",
        "    funcs = [self.creator]\n",
        "    while funcs:\n",
        "      f = funcs.pop()\n",
        "      gys = [output.grad for output in f.outputs]\n",
        "      gxs = f.backward(*gys)\n",
        "      if not isinstance(gxs, tuple):\n",
        "        gxs = (gxs, )\n",
        "\n",
        "      for x, gx in zip(f.inputs, gxs):\n",
        "        x.grad = gx # 여기가 실수!\n",
        "\n",
        "        if x.creator is not None:\n",
        "          funcs.append(x.creator)\n",
        "\n",
        "#미분값이 합이아닌 덮어 씌워진다."
      ],
      "metadata": {
        "id": "vfSX5SIutQ8E"
      },
      "execution_count": null,
      "outputs": []
    },
    {
      "cell_type": "code",
      "source": [
        "#14.2 해결책\n",
        "# 클래스의 코드에 그대로 반영하면 된다.\n",
        "class Variable:\n",
        "  #생략\n",
        "  def  backward(self):\n",
        "    if self.grad is None:\n",
        "      self.grad = np.ones_like(self.data)\n",
        "\n",
        "    funcs = [self.creator]\n",
        "    while funcs:\n",
        "      f = funcs.pop()\n",
        "      gys = [output.grad for output in f.outputs]\n",
        "      gxs = f.backward(*gys)\n",
        "      if not isinstance(gxs, tuple):\n",
        "        gxs = (gxs, )\n",
        "\n",
        "      for x, gx in zip(f.inputs, gxs):\n",
        "        if x.grad is None:\n",
        "          x.grad = gx\n",
        "        else:\n",
        "          x.grad = x.grad + gx\n",
        "        \n",
        "        if x.creator is not None:\n",
        "          funcs.append(x.creator)"
      ],
      "metadata": {
        "id": "iLgYGYJ2unu-"
      },
      "execution_count": null,
      "outputs": []
    },
    {
      "cell_type": "code",
      "source": [
        "#앞에서 실패했던 계산에 다시도전\n",
        "x = Variable(np.array(3.0))\n",
        "y = add(x, x)\n",
        "y.backward()\n",
        "print(x.grad)\n",
        "#실행결과 2.0"
      ],
      "metadata": {
        "id": "GTM_SUZ-vQge"
      },
      "execution_count": null,
      "outputs": []
    },
    {
      "cell_type": "code",
      "source": [
        "#x를 세 번 사용해도 여전히 잘 작동하는가\n",
        "x = Variable(np.array(3.0))\n",
        "y = add(add(x, x), x)\n",
        "y.backward()\n",
        "print(x.grad)\n",
        "#결과 3.0"
      ],
      "metadata": {
        "id": "tUskWGsNxF2P"
      },
      "execution_count": null,
      "outputs": []
    },
    {
      "cell_type": "code",
      "source": [
        "#14.3 미분값 재설정\n",
        "\n",
        "x = Variable(np.array(3.0))\n",
        "y = add(x, x)\n",
        "y.backward()\n",
        "print(x.grad)\n",
        "\n",
        "# 두 번째 계산(같은 x를 사용하여 다른 계산을 수행)\n",
        "y = add(add(x, x), x)\n",
        "y.backward()\n",
        "print(x.grad)\n",
        "\n",
        "#실행 결과 \n",
        "#2.0\n",
        "#5.0"
      ],
      "metadata": {
        "id": "mqQIZxn5xRDn"
      },
      "execution_count": null,
      "outputs": []
    },
    {
      "cell_type": "code",
      "source": [
        "class Variable:\n",
        "  def cleargrad(self):\n",
        "    self.grad = None"
      ],
      "metadata": {
        "id": "-mmuoR9cxz1t"
      },
      "execution_count": null,
      "outputs": []
    },
    {
      "cell_type": "code",
      "source": [
        "# 첫 번째 계산\n",
        "x = Variable(np.array(3.0))\n",
        "y = add(x, x)\n",
        "y.backward()\n",
        "print(x.grad) # 2.0\n",
        "\n",
        "# 두 번째 계산(같은 x를 사용하여 다른 계산을 수행)\n",
        "x.cleargrad() #미분값 초기화\n",
        "y = add(add(x, x), x)\n",
        "y.backward()\n",
        "print(x.grad) # 3.0\n",
        "\n",
        "#실행결과 2.0 , 3.0"
      ],
      "metadata": {
        "id": "Xy4D2Xnnx5lH"
      },
      "execution_count": null,
      "outputs": []
    },
    {
      "cell_type": "markdown",
      "source": [
        "# Step 15 복잡한 계산 그래프(이론 편)"
      ],
      "metadata": {
        "id": "YpdZuBT3yaU1"
      }
    },
    {
      "cell_type": "code",
      "source": [
        "#15.1 역전파의 올바른 순서\n",
        "#15.2 현재의 DeZerp\n",
        "\n",
        "class Variable:\n",
        "  '''생략'''\n",
        "  def backward(self):\n",
        "    if self.grad is None:\n",
        "      self.grad = np.ones_like(self.data)\n",
        "\n",
        "    funcs = [self.creator]\n",
        "    while funcs:\n",
        "      f = funcs.pop()\n",
        "      gys = [output.grad for output in f.outputs]\n",
        "      gxs = f.backward(*gys)\n",
        "      if not isinstance(gxs, tuple):\n",
        "        gxs = (gxs, )\n",
        "      \n",
        "      for x, gx in zip(f.inputs, gxs):\n",
        "        if x.grad is None:\n",
        "          x.grad = gx\n",
        "        else:\n",
        "          x.grad = x.grad + gx\n",
        "        \n",
        "        if x.creator is not None:\n",
        "          funcs.append(x.creator)\n",
        "\n",
        "#15.3 함수 우선순위"
      ],
      "metadata": {
        "id": "fIhvJQOuynM-"
      },
      "execution_count": null,
      "outputs": []
    },
    {
      "cell_type": "markdown",
      "source": [
        "# Step 16 복잡한 계산 그래프(구현 편)"
      ],
      "metadata": {
        "id": "fA5gaVWH1Q8R"
      }
    },
    {
      "cell_type": "code",
      "source": [
        "#16.1 세대 추가\n",
        "#먼저 Variable 클래스와 Function 클래스에 인스턴스 변수 generation 을 추가한다.\n",
        "#몇 번째 '세대'의 함수(혹은 변수)인지 나타내는 변수.\n",
        "\n",
        "class Variable:\n",
        "  def __init__ (self, data):\n",
        "    if data is not None:\n",
        "      if not isinstance(data, np.ndarray):\n",
        "        raise TypeError('{}은(는) 지원하지 않습니다'.format(type(data)))\n",
        "\n",
        "      self.data = data\n",
        "      self.grad = None\n",
        "      self.creator = None\n",
        "      self.generation = 0 #세대 수를 기록하는 변수\n",
        "  \n",
        "  def set_creator(self,func):\n",
        "    self.creator = func\n",
        "    self.generation = func.generation + 1 # 세대를 기록한다(부모 세대 + 1)"
      ],
      "metadata": {
        "id": "dhA1tbjK1VF0"
      },
      "execution_count": null,
      "outputs": []
    },
    {
      "cell_type": "code",
      "source": [
        "class Function(object):\n",
        "  def __call__(self, *inputs):\n",
        "    xs = [x.data for x in inputs]\n",
        "    ys = self.forward(*xs)\n",
        "    if not isinstance(ys, tuple):\n",
        "      ys = (ys,)\n",
        "    outputs = [Variable(as_array(y)) for y in ys]\n",
        "\n",
        "  self.generation = max([x.generation for x in inputs])\n",
        "  for output in outputs:\n",
        "    output.set_creator(self)\n",
        "  self.inputs = inputs\n",
        "  self.outputs = outputs\n",
        "  return outputs if len(outputs) > 1 else outputs[0]"
      ],
      "metadata": {
        "id": "cNdEI_OM181g"
      },
      "execution_count": null,
      "outputs": []
    },
    {
      "cell_type": "code",
      "source": [
        "#16.2 세대 순으로 꺼내기\n",
        "generations = [2, 0, 1, 4, 2]\n",
        "funcs = []\n",
        "\n",
        "for g in generations:\n",
        "  f = Function()  # 더미 함수 클래스\n",
        "  f.generation = g\n",
        "  funcs.append(f)\n",
        "\n",
        "[f.generation for f in funcs]\n",
        "[2, 0, 1, 4, 2]"
      ],
      "metadata": {
        "id": "dlP9CjF-28fA"
      },
      "execution_count": null,
      "outputs": []
    },
    {
      "cell_type": "code",
      "source": [
        "funcs.sort(key=lambda x: x.generation)  #리스트 정렬\n",
        "[f.generation for f in funcs]\n",
        "[0, 1, 2, 2, 4]\n",
        "\n",
        "f = funcs.pop()\n",
        "f.generation"
      ],
      "metadata": {
        "id": "zgTXK7um3RSy"
      },
      "execution_count": null,
      "outputs": []
    },
    {
      "cell_type": "code",
      "source": [
        "#16.3 Variable 클래스의 backward\n",
        "class Variable:\n",
        "  '''생략'''\n",
        "  def backward(self):\n",
        "    if self.grad is None:\n",
        "      self.grad = np.ones_like(self.data)\n",
        "\n",
        "    funcs = []\n",
        "    seen_set = set()\n",
        "\n",
        "    def add_func(f):\n",
        "      if f not in seen_set:\n",
        "        funcs.append(f)\n",
        "        seen_set.add(f)\n",
        "        funcs.sort(key=lambda x: x.generation)\n",
        "\n",
        "    add_func(self.creator)\n",
        "\n",
        "    while funcs:\n",
        "      f = funcs.pop()\n",
        "      gys = [output.grad for output in f.outputs]\n",
        "      gxs = f.backward(*gys)\n",
        "      if not isinstance(gxs, tuple):\n",
        "        gxs = (gxs,)\n",
        "      \n",
        "      for x, gx in zip(f.inputs, gxs):\n",
        "        if x.grad is None:\n",
        "          x.grad = gx\n",
        "        else:\n",
        "          x.grad = x.grad + gx\n",
        "\n",
        "        if x.creator is not None:\n",
        "          add_func(x.creator) # 수정 전 : funcs.append(x.creator)"
      ],
      "metadata": {
        "id": "HdZdvjGY3cGq"
      },
      "execution_count": null,
      "outputs": []
    },
    {
      "cell_type": "code",
      "source": [
        "# 16.4 동작 확인\n",
        "x = Variable(np.array(2.0))\n",
        "a = square(x)\n",
        "y = add(square(a), square(a))\n",
        "y.backward()\n",
        "\n",
        "print(y.data)\n",
        "print(x.grad)\n",
        "\n",
        "# 결과 32.0\n",
        "#64.0"
      ],
      "metadata": {
        "id": "On1a-23C4QK2"
      },
      "execution_count": null,
      "outputs": []
    },
    {
      "cell_type": "markdown",
      "source": [
        "# Step 메모리 관리와 순환 참조"
      ],
      "metadata": {
        "id": "R5qGXLbW4ftV"
      }
    },
    {
      "cell_type": "code",
      "source": [
        "#17.1 메모리 관리\n",
        "#17.2 참조 카운트 방식의 메모리 관리"
      ],
      "metadata": {
        "id": "JXHkeqb54ifD"
      },
      "execution_count": null,
      "outputs": []
    }
  ]
}