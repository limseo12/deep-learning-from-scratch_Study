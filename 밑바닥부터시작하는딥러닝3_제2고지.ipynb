{
  "nbformat": 4,
  "nbformat_minor": 0,
  "metadata": {
    "colab": {
      "private_outputs": true,
      "provenance": [],
      "authorship_tag": "ABX9TyNndhPK04xGR/r7mpy0Ki3a",
      "include_colab_link": true
    },
    "kernelspec": {
      "name": "python3",
      "display_name": "Python 3"
    },
    "language_info": {
      "name": "python"
    }
  },
  "cells": [
    {
      "cell_type": "markdown",
      "metadata": {
        "id": "view-in-github",
        "colab_type": "text"
      },
      "source": [
        "<a href=\"https://colab.research.google.com/github/limseo12/deep-learning-from-scratch_Study/blob/main/%EB%B0%91%EB%B0%94%EB%8B%A5%EB%B6%80%ED%84%B0%EC%8B%9C%EC%9E%91%ED%95%98%EB%8A%94%EB%94%A5%EB%9F%AC%EB%8B%9D3_%EC%A0%9C2%EA%B3%A0%EC%A7%80.ipynb\" target=\"_parent\"><img src=\"https://colab.research.google.com/assets/colab-badge.svg\" alt=\"Open In Colab\"/></a>"
      ]
    },
    {
      "cell_type": "markdown",
      "source": [
        "# Step11 가변 길이 인수(순전파 편)"
      ],
      "metadata": {
        "id": "mozSJo-U7Ss6"
      }
    },
    {
      "cell_type": "code",
      "source": [
        "#11.1 Function 클래스 수정\n",
        "class Function:\n",
        "  def __call__(self, input):\n",
        "    x = input.data    #1 Variable 이라는 '상자'에서 실제 데이터를 꺼낸다\n",
        "    y = self.forward(x)   #2 forward 메서드에서 구체적인 계산을 한다\n",
        "    output = Variable(as_array(y))    #3 계산 결과를 Variable에 넣고\n",
        "    output.set_creator(self)    #4 자신이 '창조자'라고 원산지 표시?를 한다.\n",
        "    self.input = input\n",
        "    self.output = output\n",
        "    return output\n",
        "\n",
        "  def forward(self, x):\n",
        "    raise NotImplementedError()\n",
        "\n",
        "  def backward(self, gy):\n",
        "    raise NotImplementedError()"
      ],
      "metadata": {
        "id": "W_o6LouJ7ZJI"
      },
      "execution_count": null,
      "outputs": []
    },
    {
      "cell_type": "code",
      "source": [
        "#call 메서드의 인수와 반환값을 리스트로 바꿔보자.\n",
        "class Function:\n",
        "  def __call__(self, inputs):\n",
        "    xs = [x.data for x in inputs]\n",
        "    ys = self.forward(xs)\n",
        "    output = [Variable(as_array(y)) for y in ys]\n",
        "\n",
        "    for output in outputs:\n",
        "      output.set_creator(self)\n",
        "    self.inputs = inputs\n",
        "    self.outputs = outputs\n",
        "    return outputs\n",
        "\n",
        "  def forward(self, xs):\n",
        "    raise NotImplementedError()\n",
        "  \n",
        "  def backward(self, gys):\n",
        "    raise NotImplementedError()"
      ],
      "metadata": {
        "id": "3nVH00Id82uA"
      },
      "execution_count": null,
      "outputs": []
    },
    {
      "cell_type": "code",
      "source": [
        "#11.2 Add 클래스 구현\n",
        "class Add(Function):\n",
        "  def forward(self, xs):\n",
        "    x0, x1 = xs\n",
        "    y = x0 + x1\n",
        "    return (y,)"
      ],
      "metadata": {
        "id": "8VwmCBpa-L8J"
      },
      "execution_count": null,
      "outputs": []
    },
    {
      "cell_type": "code",
      "source": [
        "xs = [Variable(np.array(2)), Variable(np.array(3))] #리스트로 준비\n",
        "f = Add()\n",
        "ys = f(xs)\n",
        "y = ys[0]\n",
        "print(y.data)"
      ],
      "metadata": {
        "id": "jgDn70VC-yEa"
      },
      "execution_count": null,
      "outputs": []
    },
    {
      "cell_type": "markdown",
      "source": [
        "# Step 12 가변 길이 인수(개선 편)"
      ],
      "metadata": {
        "id": "cu4rnbzl_DeU"
      }
    },
    {
      "cell_type": "code",
      "source": [
        "#12.1 첫 번째 개선 : 함수를 사용하기 쉽게\n",
        "class Function:\n",
        "  def __call__(self, *inputs):  # 별표를 붙인다.\n",
        "    xs = [x.data for x in inputs]\n",
        "    ys = self.forward(xs)\n",
        "    outputs = [Variable(as_array(y)) for y in ys]\n",
        "\n",
        "    for output in outputs:\n",
        "      output.set_creator(self)\n",
        "    self.inputs = inputs\n",
        "    self.outputs = outputs\n",
        "\n",
        "    #리스트의 원소가 하나라면 첫 번째 원소를 반환한다.\n",
        "    return outputs if len(outputs) > 1 else outputs[0]"
      ],
      "metadata": {
        "id": "-IKEpbDF_HZf"
      },
      "execution_count": null,
      "outputs": []
    },
    {
      "cell_type": "code",
      "source": [
        ">>> def f(*x):\n",
        "print(x)\n",
        "\n",
        ">>> f(1, 2, 3)\n",
        "(1, 2, 3)\n",
        "\n",
        ">>> f(1, 2, 3, 4, 5, 6)\n",
        "(1, 2, 3, 4, 5, 6)"
      ],
      "metadata": {
        "id": "1avjkHEH_4s_"
      },
      "execution_count": null,
      "outputs": []
    },
    {
      "cell_type": "code",
      "source": [
        "x0 = Variable(np.array(2))\n",
        "x1 = Variable(np.array(3))\n",
        "f = Add()\n",
        "y = f(x0, x1)\n",
        "print(y.data)"
      ],
      "metadata": {
        "id": "HR1YBUxsATHi"
      },
      "execution_count": null,
      "outputs": []
    },
    {
      "cell_type": "code",
      "source": [
        "# 12.2 두 번째 개선: 함수를 구현하기 쉽도록\n",
        "class Function:\n",
        "  def __call__(self, *inpuit):\n",
        "    xs = [x.data for x in inputs]\n",
        "    ys = self.forward(*xs)    # 1 별표를 붙여 언팩\n",
        "    if not isinstance(ys, tuple):   # 2 튜플이 아닌 경우 추가 지원\n",
        "      ys = (ys, )\n",
        "    output = [Variable(as_array(y)) for y in ys]\n",
        "\n",
        "    for output in outputs:\n",
        "      output.set_creator(self)\n",
        "    self.inputs = inputs\n",
        "    self.inputs = outputs\n",
        "\n",
        "    return outputs if len(outputs) > 1 else outputs[0]"
      ],
      "metadata": {
        "id": "Qt1gnHn6Ad6o"
      },
      "execution_count": null,
      "outputs": []
    },
    {
      "cell_type": "code",
      "source": [
        "class Add(Function):\n",
        "  def forward(self, x0, x1):\n",
        "    y = x0 + x1\n",
        "    return y"
      ],
      "metadata": {
        "id": "jqOSa3HoCuvF"
      },
      "execution_count": null,
      "outputs": []
    },
    {
      "cell_type": "code",
      "source": [
        "#12.3 add 함수 구현\n",
        "def add(x0, x1):\n",
        "  return Add()(x0, x1)"
      ],
      "metadata": {
        "id": "H-xWVPuADPKB"
      },
      "execution_count": null,
      "outputs": []
    },
    {
      "cell_type": "code",
      "source": [
        "x0 = Variable(np.array(2))\n",
        "x1 = Variable(np.array(3))\n",
        "y = add(x0, x1)\n",
        "print(y.data)"
      ],
      "metadata": {
        "id": "_kSTuQYmDXdR"
      },
      "execution_count": null,
      "outputs": []
    },
    {
      "cell_type": "markdown",
      "source": [
        "# Step13 가변 길이 인수(역전파 편)"
      ],
      "metadata": {
        "id": "6m4Z2hydDhKl"
      }
    }
  ]
}