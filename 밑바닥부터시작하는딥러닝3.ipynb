{
  "nbformat": 4,
  "nbformat_minor": 0,
  "metadata": {
    "colab": {
      "private_outputs": true,
      "provenance": [],
      "authorship_tag": "ABX9TyMWFXtkE52SxvyTt78O/UYy",
      "include_colab_link": true
    },
    "kernelspec": {
      "name": "python3",
      "display_name": "Python 3"
    },
    "language_info": {
      "name": "python"
    }
  },
  "cells": [
    {
      "cell_type": "markdown",
      "metadata": {
        "id": "view-in-github",
        "colab_type": "text"
      },
      "source": [
        "<a href=\"https://colab.research.google.com/github/limseo12/deep-learning-from-scratch_Study/blob/main/%EB%B0%91%EB%B0%94%EB%8B%A5%EB%B6%80%ED%84%B0%EC%8B%9C%EC%9E%91%ED%95%98%EB%8A%94%EB%94%A5%EB%9F%AC%EB%8B%9D3.ipynb\" target=\"_parent\"><img src=\"https://colab.research.google.com/assets/colab-badge.svg\" alt=\"Open In Colab\"/></a>"
      ]
    },
    {
      "cell_type": "code",
      "execution_count": null,
      "metadata": {
        "id": "kpVvpoiKxjv6"
      },
      "outputs": [],
      "source": [
        "#Variable = 변수 , 클래스 구현\n",
        "class Variable:\n",
        "  def __init__(self, data):\n",
        "    self.data = data\n",
        "\n",
        "import numpy as np\n",
        "\n",
        "data = np.array(1.0)\n",
        "x = Variable(data)\n",
        "print(x.data)\n",
        "\n",
        "#새로운 데이터입력\n",
        "x.data = np.array(2.0)\n",
        "print(x.data)"
      ]
    },
    {
      "cell_type": "code",
      "source": [
        "#ndim 인스턴스 변수 사용해보기 = 차원 수\n",
        "import numpy as np\n",
        "x = np.array(1)\n",
        "x.ndim\n",
        "#결과 = 0\n",
        "x = np.array([1, 2, 3])\n",
        "x.ndim\n",
        "#결과 = 1\n",
        "x = np.array([[1, 2, 3],\n",
        "              [4, 5, 6]])\n",
        "x.ndim\n",
        "#결과 = 2"
      ],
      "metadata": {
        "id": "zSHifVZy06hl"
      },
      "execution_count": null,
      "outputs": []
    },
    {
      "cell_type": "code",
      "source": [
        "#2.2 Function 클래스 구현\n"
      ],
      "metadata": {
        "id": "R_gT_o6p10ON"
      },
      "execution_count": null,
      "outputs": []
    }
  ]
}