{
  "nbformat": 4,
  "nbformat_minor": 0,
  "metadata": {
    "colab": {
      "private_outputs": true,
      "provenance": [],
      "authorship_tag": "ABX9TyPzbEGsVne4ve8vSC+WaDak",
      "include_colab_link": true
    },
    "kernelspec": {
      "name": "python3",
      "display_name": "Python 3"
    },
    "language_info": {
      "name": "python"
    }
  },
  "cells": [
    {
      "cell_type": "markdown",
      "metadata": {
        "id": "view-in-github",
        "colab_type": "text"
      },
      "source": [
        "<a href=\"https://colab.research.google.com/github/limseo12/deep-learning-from-scratch_Study/blob/main/%EB%B0%91%EB%B0%94%EB%8B%A5%EB%B6%80%ED%84%B0%EC%8B%9C%EC%9E%91%ED%95%98%EB%8A%94%EB%94%A5%EB%9F%AC%EB%8B%9D3.ipynb\" target=\"_parent\"><img src=\"https://colab.research.google.com/assets/colab-badge.svg\" alt=\"Open In Colab\"/></a>"
      ]
    },
    {
      "cell_type": "code",
      "execution_count": null,
      "metadata": {
        "id": "kpVvpoiKxjv6"
      },
      "outputs": [],
      "source": [
        "#Variable = 변수 , 클래스 구현\n",
        "class Variable:\n",
        "  def __init__(self, data):\n",
        "    self.data = data\n",
        "\n",
        "import numpy as np\n",
        "\n",
        "data = np.array(1.0)\n",
        "x = Variable(data)\n",
        "print(x.data)\n",
        "\n",
        "#새로운 데이터입력\n",
        "x.data = np.array(2.0)\n",
        "print(x.data)"
      ]
    },
    {
      "cell_type": "code",
      "source": [
        "#ndim 인스턴스 변수 사용해보기 = 차원 수\n",
        "import numpy as np\n",
        "x = np.array(1)\n",
        "x.ndim\n",
        "#결과 = 0\n",
        "x = np.array([1, 2, 3])\n",
        "x.ndim\n",
        "#결과 = 1\n",
        "x = np.array([[1, 2, 3],\n",
        "              [4, 5, 6]])\n",
        "x.ndim\n",
        "#결과 = 2"
      ],
      "metadata": {
        "id": "zSHifVZy06hl"
      },
      "execution_count": null,
      "outputs": []
    },
    {
      "cell_type": "code",
      "source": [
        "#2.2 Function 클래스 구현\n",
        "class Function:\n",
        "  def __call__(self, input):  #파이썬의 특수 메서드.\n",
        "    x = input.data\n",
        "    y = x ** 2\n",
        "    output = Variable(y)\n",
        "    return output\n",
        "\n",
        "#2.3 FUnction 클래스 이용 2.2와 연계\n",
        "x = Variable(np.array(10))\n",
        "f = Function()\n",
        "y = f(x)\n",
        "\n",
        "print(type(y))\n",
        "print(y.data)"
      ],
      "metadata": {
        "id": "R_gT_o6p10ON"
      },
      "execution_count": null,
      "outputs": []
    },
    {
      "cell_type": "code",
      "source": [
        "#calss Function 수정\n",
        "class Function:\n",
        "  def __call__(self, input):\n",
        "    x = input.data\n",
        "    y = self.forward(x)\n",
        "    output = Variable(y)\n",
        "    return output\n",
        "  def forward(self, x):\n",
        "    raise NotImplementedError()"
      ],
      "metadata": {
        "id": "OoLZvAOjwIzh"
      },
      "execution_count": null,
      "outputs": []
    },
    {
      "cell_type": "code",
      "source": [
        "#Function 클래스를 상속하여 입력값을 제곱하는 클래스를 구현\n",
        "class Square(Function):\n",
        "  def forward(self, x):\n",
        "    return x ** 2\n",
        "\n",
        "x = Variable(np.array(10))\n",
        "f = Square()\n",
        "y = f(x)\n",
        "print(type(y))\n",
        "print(y.data)"
      ],
      "metadata": {
        "id": "lTXxE2GrBeQP"
      },
      "execution_count": null,
      "outputs": []
    },
    {
      "cell_type": "markdown",
      "source": [
        "## step 3 함수 연결"
      ],
      "metadata": {
        "id": "ygKRHjrHC4ji"
      }
    },
    {
      "cell_type": "code",
      "source": [
        "#3.1 Exp 함수 구현\n",
        "class Exp(Function):\n",
        "  def forward(self, x):\n",
        "    return np.exp(x)\n",
        "\n",
        "#3.2 함수 연결 y = (e^x^2)^2 이라는 계산을 예로 생각\n",
        "A = Square()\n",
        "B = Exp()\n",
        "C = Square()\n",
        "\n",
        "x = Variable(np.array(0.5))\n",
        "a = A(x)\n",
        "b = B(a)\n",
        "y = C(b)\n",
        "print(y.data)"
      ],
      "metadata": {
        "id": "Ub3bzTmAC-5y"
      },
      "execution_count": null,
      "outputs": []
    },
    {
      "cell_type": "markdown",
      "source": [
        "# Step 4 수치 미분"
      ],
      "metadata": {
        "id": "cQv_SFCbH7wn"
      }
    },
    {
      "cell_type": "markdown",
      "source": [
        "#중앙차분, 전진차분 .\n",
        "#중앙차분이 상대적으로 오차가 적다\n",
        "#앱실론의 약어 eps. 아주 작은 양의 부동소수점값을 담는 변수의 이름으로 흔희 사용된다."
      ],
      "metadata": {
        "id": "Fgl0TLJRgZSg"
      }
    },
    {
      "cell_type": "code",
      "source": [
        "#4,1 중앙차분을 이용하여 수치미분을 계산해보자\n",
        "def numerical_diff(f, x, eps=1e-4):\n",
        "  x0 = Variable(x.data - eps)\n",
        "  x1 = Variable(x.data + eps)\n",
        "  y0 = f(x0)\n",
        "  y1 = f(x1)\n",
        "  return (y1.data - y0.data) / (2 * eps)\n",
        "\n",
        "# 아까 구현한 Square 클래스 대상으로 미분해보자\n",
        "f = Square()\n",
        "x = Variable(np.array(2.0))\n",
        "dy = numerical_diff(f, x)\n",
        "print(dy)"
      ],
      "metadata": {
        "id": "XglpxAwBH_Kq"
      },
      "execution_count": null,
      "outputs": []
    },
    {
      "cell_type": "code",
      "source": [
        "#4.3 합성 함수의 미분\n",
        "def f(x):\n",
        "  A = Square()\n",
        "  B = Exp()\n",
        "  C = Square()\n",
        "  return C(B(A(x)))\n",
        "\n",
        "x = Variable(np.array(0.5))\n",
        "dy = numerical_diff(f, x)\n",
        "print(dy)\n"
      ],
      "metadata": {
        "id": "NV--W8u-nvt7"
      },
      "execution_count": null,
      "outputs": []
    },
    {
      "cell_type": "markdown",
      "source": [
        "4.4 수치미분의 문제점\\\n",
        "'자릿수 누락' 때문에 문제가있다.\\\n",
        "수치미분을 이용하면 자릿수 누락이 발생하여 오차가 포함되기 쉽다.\n",
        "\n",
        "역전파\\\n",
        "수치 미분은 구현하기 쉽고 거의 정확한 값을 얻을 수 있다.\\\n",
        "이에 비해 역전파는 복잡한 알고리즘이여서 구현하면서 버그가 섞여 들어가기 쉽다.\\\n",
        "역전파를 정확하게 구현했는지 확인하기 위해 수치 미분의 결과를 이용하곤 한다.\\\n",
        "이를 기울기 확인 (gradient checking) 이라고한다\\\n",
        "이것은 단순히 수치 미분 결과와 역전파의 결과를 비교하는 것이다."
      ],
      "metadata": {
        "id": "edVEioyJxyLM"
      }
    },
    {
      "cell_type": "markdown",
      "source": [
        "# Step 5 역전파 (Back propagation) 이론 "
      ],
      "metadata": {
        "id": "UE4Wx0YTyhZQ"
      }
    },
    {
      "cell_type": "code",
      "source": [
        "#5.1 연쇄법칙\n"
      ],
      "metadata": {
        "id": "Lq7jYhGGymId"
      },
      "execution_count": null,
      "outputs": []
    }
  ]
}